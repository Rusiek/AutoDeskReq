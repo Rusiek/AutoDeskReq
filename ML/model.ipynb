{
 "cells": [
  {
   "cell_type": "code",
   "execution_count": 3,
   "metadata": {},
   "outputs": [],
   "source": [
    "import numpy as np\n",
    "import pandas as pd\n",
    "from sklearn.ensemble import RandomForestClassifier\n",
    "\n",
    "def make_model():\n",
    "    return RandomForestClassifier(\n",
    "        criterion='gini',\n",
    "        max_depth=3,\n",
    "        min_samples_leaf=12,\n",
    "        min_samples_split=5,\n",
    "        n_estimators=10,\n",
    "    )\n",
    "\n",
    "def train_model(model, X, y):\n",
    "    model.fit(X, y)\n",
    "\n",
    "def predict(model, X):\n",
    "    return model.predict(X)\n",
    "\n",
    "def evaluate(model, X, y):\n",
    "    return model.score(X, y)\n",
    "\n",
    "def split_data(data, test_size=0.2):\n",
    "    return data.sample(frac=1-test_size), data.sample(frac=test_size)\n",
    "\n",
    "def split_X_Y(data):\n",
    "    return data.drop('Purchased', axis=1), data['Purchased']"
   ]
  },
  {
   "cell_type": "code",
   "execution_count": 4,
   "metadata": {},
   "outputs": [
    {
     "name": "stdout",
     "output_type": "stream",
     "text": [
      "0.9210526315789473\n"
     ]
    }
   ],
   "source": [
    "data = pd.read_csv('Customers.csv')\n",
    "train, test = split_data(data)\n",
    "train_X, train_Y = split_X_Y(train)\n",
    "test_X, test_Y = split_X_Y(test)\n",
    "\n",
    "model = make_model()\n",
    "train_model(model, train_X, train_Y)\n",
    "print('Acc:', evaluate(model, test_X, test_Y))"
   ]
  }
 ],
 "metadata": {
  "kernelspec": {
   "display_name": "Python 3",
   "language": "python",
   "name": "python3"
  },
  "language_info": {
   "codemirror_mode": {
    "name": "ipython",
    "version": 3
   },
   "file_extension": ".py",
   "mimetype": "text/x-python",
   "name": "python",
   "nbconvert_exporter": "python",
   "pygments_lexer": "ipython3",
   "version": "3.10.5"
  },
  "orig_nbformat": 4
 },
 "nbformat": 4,
 "nbformat_minor": 2
}
