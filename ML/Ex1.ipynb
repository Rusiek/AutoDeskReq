{
 "cells": [
  {
   "attachments": {},
   "cell_type": "markdown",
   "metadata": {},
   "source": [
    "A company selling luxury products prepares a marketing campaign to promote their brand new model of a golden watch.\n",
    "While selling the previous model they collected the following data about the customers.\n",
    "Age - the age of customer\n",
    "Salary - the estimated customer's salary value\n",
    "Purchased - information if given customer purchased the product or not, 1 - yes, 0 - no\n",
    "\n",
    "Deliver a solution in Python which leverages Machine Learning and the available data to help the company predict \n",
    "which customers may be willing to buy their new watch, so that they can properly target their marketing efforts.\n",
    "The solution should answer the question if customer in given age who earns given salary will buy the product or not."
   ]
  },
  {
   "cell_type": "code",
   "execution_count": 3,
   "metadata": {},
   "outputs": [],
   "source": [
    "import numpy as np\n",
    "import pandas as pd\n",
    "from sklearn.ensemble import RandomForestClassifier\n",
    "\n",
    "def make_model():\n",
    "    return RandomForestClassifier(\n",
    "        criterion='gini',\n",
    "        max_depth=3,\n",
    "        min_samples_leaf=12,\n",
    "        min_samples_split=5,\n",
    "        n_estimators=10,\n",
    "    )\n",
    "\n",
    "def train_model(model, X, y):\n",
    "    model.fit(X, y)\n",
    "\n",
    "def predict(model, X):\n",
    "    return model.predict(X)\n",
    "\n",
    "def evaluate(model, X, y):\n",
    "    return model.score(X, y)\n",
    "\n",
    "def split_data(data, test_size=0.2):\n",
    "    return data.sample(frac=1-test_size), data.sample(frac=test_size)\n",
    "\n",
    "def split_X_Y(data):\n",
    "    return data.drop('Purchased', axis=1), data['Purchased']"
   ]
  },
  {
   "cell_type": "code",
   "execution_count": 7,
   "metadata": {},
   "outputs": [
    {
     "name": "stdout",
     "output_type": "stream",
     "text": [
      "Acc: 0.9473684210526315\n"
     ]
    }
   ],
   "source": [
    "data = pd.read_csv('Customers.csv')\n",
    "train, test = split_data(data)\n",
    "train_X, train_Y = split_X_Y(train)\n",
    "test_X, test_Y = split_X_Y(test)\n",
    "\n",
    "model = make_model()\n",
    "train_model(model, train_X, train_Y)\n",
    "print('Acc:', evaluate(model, test_X, test_Y))"
   ]
  }
 ],
 "metadata": {
  "kernelspec": {
   "display_name": "Python 3",
   "language": "python",
   "name": "python3"
  },
  "language_info": {
   "codemirror_mode": {
    "name": "ipython",
    "version": 3
   },
   "file_extension": ".py",
   "mimetype": "text/x-python",
   "name": "python",
   "nbconvert_exporter": "python",
   "pygments_lexer": "ipython3",
   "version": "3.10.5"
  },
  "orig_nbformat": 4
 },
 "nbformat": 4,
 "nbformat_minor": 2
}
